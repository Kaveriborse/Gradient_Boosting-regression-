{
 "cells": [
  {
   "cell_type": "markdown",
   "id": "2228e8f6",
   "metadata": {},
   "source": [
    "**import imp libraries** "
   ]
  },
  {
   "cell_type": "code",
   "execution_count": 4,
   "id": "ab40c11f",
   "metadata": {},
   "outputs": [],
   "source": [
    "import pandas as pd\n",
    "import numpy as np"
   ]
  },
  {
   "cell_type": "code",
   "execution_count": 5,
   "id": "fa70023c",
   "metadata": {},
   "outputs": [],
   "source": [
    "import matplotlib.pyplot as plt"
   ]
  },
  {
   "cell_type": "code",
   "execution_count": 6,
   "id": "a5caa25e",
   "metadata": {},
   "outputs": [],
   "source": [
    "df=pd.DataFrame()"
   ]
  },
  {
   "cell_type": "code",
   "execution_count": 7,
   "id": "cb94d06a",
   "metadata": {},
   "outputs": [],
   "source": [
    "np.random.seed(42)"
   ]
  },
  {
   "cell_type": "code",
   "execution_count": 8,
   "id": "82b1e026",
   "metadata": {},
   "outputs": [],
   "source": [
    "X=np.random.rand(100,1)-0.5"
   ]
  },
  {
   "cell_type": "code",
   "execution_count": 9,
   "id": "111d25d3",
   "metadata": {
    "collapsed": true
   },
   "outputs": [
    {
     "data": {
      "text/plain": [
       "array([[-0.12545988],\n",
       "       [ 0.45071431],\n",
       "       [ 0.23199394],\n",
       "       [ 0.09865848],\n",
       "       [-0.34398136],\n",
       "       [-0.34400548],\n",
       "       [-0.44191639],\n",
       "       [ 0.36617615],\n",
       "       [ 0.10111501],\n",
       "       [ 0.20807258],\n",
       "       [-0.47941551],\n",
       "       [ 0.46990985],\n",
       "       [ 0.33244264],\n",
       "       [-0.28766089],\n",
       "       [-0.31817503],\n",
       "       [-0.31659549],\n",
       "       [-0.19575776],\n",
       "       [ 0.02475643],\n",
       "       [-0.06805498],\n",
       "       [-0.20877086],\n",
       "       [ 0.11185289],\n",
       "       [-0.36050614],\n",
       "       [-0.20785535],\n",
       "       [-0.13363816],\n",
       "       [-0.04393002],\n",
       "       [ 0.28517596],\n",
       "       [-0.30032622],\n",
       "       [ 0.01423444],\n",
       "       [ 0.09241457],\n",
       "       [-0.45354959],\n",
       "       [ 0.10754485],\n",
       "       [-0.32947588],\n",
       "       [-0.43494841],\n",
       "       [ 0.44888554],\n",
       "       [ 0.46563203],\n",
       "       [ 0.30839735],\n",
       "       [-0.19538623],\n",
       "       [-0.40232789],\n",
       "       [ 0.18423303],\n",
       "       [-0.05984751],\n",
       "       [-0.37796177],\n",
       "       [-0.00482309],\n",
       "       [-0.46561148],\n",
       "       [ 0.4093204 ],\n",
       "       [-0.24122002],\n",
       "       [ 0.16252228],\n",
       "       [-0.18828892],\n",
       "       [ 0.02006802],\n",
       "       [ 0.04671028],\n",
       "       [-0.31514554],\n",
       "       [ 0.46958463],\n",
       "       [ 0.27513282],\n",
       "       [ 0.43949894],\n",
       "       [ 0.39482735],\n",
       "       [ 0.09789998],\n",
       "       [ 0.42187424],\n",
       "       [-0.4115075 ],\n",
       "       [-0.30401714],\n",
       "       [-0.45477271],\n",
       "       [-0.17466967],\n",
       "       [-0.11132271],\n",
       "       [-0.22865097],\n",
       "       [ 0.32873751],\n",
       "       [-0.14324667],\n",
       "       [-0.21906549],\n",
       "       [ 0.04269608],\n",
       "       [-0.35907578],\n",
       "       [ 0.30219698],\n",
       "       [-0.42544936],\n",
       "       [ 0.48688694],\n",
       "       [ 0.27224477],\n",
       "       [-0.30128432],\n",
       "       [-0.49447788],\n",
       "       [ 0.31546143],\n",
       "       [ 0.20685734],\n",
       "       [ 0.22900717],\n",
       "       [ 0.27127035],\n",
       "       [-0.42595535],\n",
       "       [-0.14153427],\n",
       "       [-0.38413094],\n",
       "       [ 0.36310343],\n",
       "       [ 0.12329813],\n",
       "       [-0.16910198],\n",
       "       [-0.43644165],\n",
       "       [-0.18901768],\n",
       "       [-0.17481668],\n",
       "       [ 0.22960618],\n",
       "       [ 0.13755747],\n",
       "       [ 0.38721274],\n",
       "       [-0.02778507],\n",
       "       [-0.38040575],\n",
       "       [ 0.21324479],\n",
       "       [ 0.26078505],\n",
       "       [ 0.0612772 ],\n",
       "       [ 0.27096718],\n",
       "       [-0.0062044 ],\n",
       "       [ 0.02273283],\n",
       "       [-0.07245898],\n",
       "       [-0.47458087],\n",
       "       [-0.39210857]])"
      ]
     },
     "execution_count": 9,
     "metadata": {},
     "output_type": "execute_result"
    }
   ],
   "source": [
    "X"
   ]
  },
  {
   "cell_type": "code",
   "execution_count": 10,
   "id": "dbcc9789",
   "metadata": {},
   "outputs": [],
   "source": [
    "#for complex data\n",
    "y=3*X[:,0]**2+0.05*np.random.randn(100)"
   ]
  },
  {
   "cell_type": "code",
   "execution_count": 11,
   "id": "5d8f873d",
   "metadata": {},
   "outputs": [],
   "source": [
    "#to match dimensions \n",
    "df['X']=X.reshape(100)"
   ]
  },
  {
   "cell_type": "code",
   "execution_count": 12,
   "id": "ceba8df7",
   "metadata": {},
   "outputs": [],
   "source": [
    "df['y']=y"
   ]
  },
  {
   "cell_type": "code",
   "execution_count": 13,
   "id": "e58af300",
   "metadata": {},
   "outputs": [
    {
     "data": {
      "text/html": [
       "<div>\n",
       "<style scoped>\n",
       "    .dataframe tbody tr th:only-of-type {\n",
       "        vertical-align: middle;\n",
       "    }\n",
       "\n",
       "    .dataframe tbody tr th {\n",
       "        vertical-align: top;\n",
       "    }\n",
       "\n",
       "    .dataframe thead th {\n",
       "        text-align: right;\n",
       "    }\n",
       "</style>\n",
       "<table border=\"1\" class=\"dataframe\">\n",
       "  <thead>\n",
       "    <tr style=\"text-align: right;\">\n",
       "      <th></th>\n",
       "      <th>X</th>\n",
       "      <th>y</th>\n",
       "    </tr>\n",
       "  </thead>\n",
       "  <tbody>\n",
       "    <tr>\n",
       "      <th>0</th>\n",
       "      <td>-0.125460</td>\n",
       "      <td>0.051573</td>\n",
       "    </tr>\n",
       "    <tr>\n",
       "      <th>1</th>\n",
       "      <td>0.450714</td>\n",
       "      <td>0.594480</td>\n",
       "    </tr>\n",
       "    <tr>\n",
       "      <th>2</th>\n",
       "      <td>0.231994</td>\n",
       "      <td>0.166052</td>\n",
       "    </tr>\n",
       "    <tr>\n",
       "      <th>3</th>\n",
       "      <td>0.098658</td>\n",
       "      <td>-0.070178</td>\n",
       "    </tr>\n",
       "    <tr>\n",
       "      <th>4</th>\n",
       "      <td>-0.343981</td>\n",
       "      <td>0.343986</td>\n",
       "    </tr>\n",
       "  </tbody>\n",
       "</table>\n",
       "</div>"
      ],
      "text/plain": [
       "          X         y\n",
       "0 -0.125460  0.051573\n",
       "1  0.450714  0.594480\n",
       "2  0.231994  0.166052\n",
       "3  0.098658 -0.070178\n",
       "4 -0.343981  0.343986"
      ]
     },
     "execution_count": 13,
     "metadata": {},
     "output_type": "execute_result"
    }
   ],
   "source": [
    "df.head()"
   ]
  },
  {
   "cell_type": "markdown",
   "id": "9d9a8d9a",
   "metadata": {},
   "source": [
    "**visualization**"
   ]
  },
  {
   "cell_type": "code",
   "execution_count": 14,
   "id": "da4dcc52",
   "metadata": {},
   "outputs": [
    {
     "data": {
      "text/plain": [
       "Text(0.5, 1.0, 'X vs y')"
      ]
     },
     "execution_count": 14,
     "metadata": {},
     "output_type": "execute_result"
    },
    {
     "data": {
      "image/png": "[encoded data removed]",
      "text/plain": [
       "<Figure size 432x288 with 1 Axes>"
      ]
     },
     "metadata": {
      "needs_background": "light"
     },
     "output_type": "display_data"
    }
   ],
   "source": [
    "plt.scatter(df['X'],df['y'])\n",
    "plt.title('X vs y')"
   ]
  },
  {
   "cell_type": "code",
   "execution_count": 25,
   "id": "1a23dbcb",
   "metadata": {},
   "outputs": [],
   "source": [
    "df['pred1[base_model]']=df['y'].mean()"
   ]
  },
  {
   "cell_type": "code",
   "execution_count": 26,
   "id": "8eaf1181",
   "metadata": {
    "scrolled": true
   },
   "outputs": [
    {
     "data": {
      "text/html": [
       "<div>\n",
       "<style scoped>\n",
       "    .dataframe tbody tr th:only-of-type {\n",
       "        vertical-align: middle;\n",
       "    }\n",
       "\n",
       "    .dataframe tbody tr th {\n",
       "        vertical-align: top;\n",
       "    }\n",
       "\n",
       "    .dataframe thead th {\n",
       "        text-align: right;\n",
       "    }\n",
       "</style>\n",
       "<table border=\"1\" class=\"dataframe\">\n",
       "  <thead>\n",
       "    <tr style=\"text-align: right;\">\n",
       "      <th></th>\n",
       "      <th>X</th>\n",
       "      <th>y</th>\n",
       "      <th>pred1[base_model]</th>\n",
       "    </tr>\n",
       "  </thead>\n",
       "  <tbody>\n",
       "    <tr>\n",
       "      <th>0</th>\n",
       "      <td>-0.125460</td>\n",
       "      <td>0.051573</td>\n",
       "      <td>0.265458</td>\n",
       "    </tr>\n",
       "    <tr>\n",
       "      <th>1</th>\n",
       "      <td>0.450714</td>\n",
       "      <td>0.594480</td>\n",
       "      <td>0.265458</td>\n",
       "    </tr>\n",
       "    <tr>\n",
       "      <th>2</th>\n",
       "      <td>0.231994</td>\n",
       "      <td>0.166052</td>\n",
       "      <td>0.265458</td>\n",
       "    </tr>\n",
       "    <tr>\n",
       "      <th>3</th>\n",
       "      <td>0.098658</td>\n",
       "      <td>-0.070178</td>\n",
       "      <td>0.265458</td>\n",
       "    </tr>\n",
       "    <tr>\n",
       "      <th>4</th>\n",
       "      <td>-0.343981</td>\n",
       "      <td>0.343986</td>\n",
       "      <td>0.265458</td>\n",
       "    </tr>\n",
       "    <tr>\n",
       "      <th>...</th>\n",
       "      <td>...</td>\n",
       "      <td>...</td>\n",
       "      <td>...</td>\n",
       "    </tr>\n",
       "    <tr>\n",
       "      <th>95</th>\n",
       "      <td>-0.006204</td>\n",
       "      <td>-0.040675</td>\n",
       "      <td>0.265458</td>\n",
       "    </tr>\n",
       "    <tr>\n",
       "      <th>96</th>\n",
       "      <td>0.022733</td>\n",
       "      <td>-0.002305</td>\n",
       "      <td>0.265458</td>\n",
       "    </tr>\n",
       "    <tr>\n",
       "      <th>97</th>\n",
       "      <td>-0.072459</td>\n",
       "      <td>0.032809</td>\n",
       "      <td>0.265458</td>\n",
       "    </tr>\n",
       "    <tr>\n",
       "      <th>98</th>\n",
       "      <td>-0.474581</td>\n",
       "      <td>0.689516</td>\n",
       "      <td>0.265458</td>\n",
       "    </tr>\n",
       "    <tr>\n",
       "      <th>99</th>\n",
       "      <td>-0.392109</td>\n",
       "      <td>0.502607</td>\n",
       "      <td>0.265458</td>\n",
       "    </tr>\n",
       "  </tbody>\n",
       "</table>\n",
       "<p>100 rows × 3 columns</p>\n",
       "</div>"
      ],
      "text/plain": [
       "           X         y  pred1[base_model]\n",
       "0  -0.125460  0.051573           0.265458\n",
       "1   0.450714  0.594480           0.265458\n",
       "2   0.231994  0.166052           0.265458\n",
       "3   0.098658 -0.070178           0.265458\n",
       "4  -0.343981  0.343986           0.265458\n",
       "..       ...       ...                ...\n",
       "95 -0.006204 -0.040675           0.265458\n",
       "96  0.022733 -0.002305           0.265458\n",
       "97 -0.072459  0.032809           0.265458\n",
       "98 -0.474581  0.689516           0.265458\n",
       "99 -0.392109  0.502607           0.265458\n",
       "\n",
       "[100 rows x 3 columns]"
      ]
     },
     "execution_count": 26,
     "metadata": {},
     "output_type": "execute_result"
    }
   ],
   "source": [
    "df"
   ]
  },
  {
   "cell_type": "code",
   "execution_count": 27,
   "id": "25f7fec8",
   "metadata": {},
   "outputs": [
    {
     "data": {
      "text/html": [
       "<div>\n",
       "<style scoped>\n",
       "    .dataframe tbody tr th:only-of-type {\n",
       "        vertical-align: middle;\n",
       "    }\n",
       "\n",
       "    .dataframe tbody tr th {\n",
       "        vertical-align: top;\n",
       "    }\n",
       "\n",
       "    .dataframe thead th {\n",
       "        text-align: right;\n",
       "    }\n",
       "</style>\n",
       "<table border=\"1\" class=\"dataframe\">\n",
       "  <thead>\n",
       "    <tr style=\"text-align: right;\">\n",
       "      <th></th>\n",
       "      <th>X</th>\n",
       "      <th>y</th>\n",
       "      <th>pred1[base_model]</th>\n",
       "    </tr>\n",
       "  </thead>\n",
       "  <tbody>\n",
       "    <tr>\n",
       "      <th>0</th>\n",
       "      <td>-0.125460</td>\n",
       "      <td>0.051573</td>\n",
       "      <td>0.265458</td>\n",
       "    </tr>\n",
       "    <tr>\n",
       "      <th>1</th>\n",
       "      <td>0.450714</td>\n",
       "      <td>0.594480</td>\n",
       "      <td>0.265458</td>\n",
       "    </tr>\n",
       "    <tr>\n",
       "      <th>2</th>\n",
       "      <td>0.231994</td>\n",
       "      <td>0.166052</td>\n",
       "      <td>0.265458</td>\n",
       "    </tr>\n",
       "    <tr>\n",
       "      <th>3</th>\n",
       "      <td>0.098658</td>\n",
       "      <td>-0.070178</td>\n",
       "      <td>0.265458</td>\n",
       "    </tr>\n",
       "    <tr>\n",
       "      <th>4</th>\n",
       "      <td>-0.343981</td>\n",
       "      <td>0.343986</td>\n",
       "      <td>0.265458</td>\n",
       "    </tr>\n",
       "    <tr>\n",
       "      <th>...</th>\n",
       "      <td>...</td>\n",
       "      <td>...</td>\n",
       "      <td>...</td>\n",
       "    </tr>\n",
       "    <tr>\n",
       "      <th>95</th>\n",
       "      <td>-0.006204</td>\n",
       "      <td>-0.040675</td>\n",
       "      <td>0.265458</td>\n",
       "    </tr>\n",
       "    <tr>\n",
       "      <th>96</th>\n",
       "      <td>0.022733</td>\n",
       "      <td>-0.002305</td>\n",
       "      <td>0.265458</td>\n",
       "    </tr>\n",
       "    <tr>\n",
       "      <th>97</th>\n",
       "      <td>-0.072459</td>\n",
       "      <td>0.032809</td>\n",
       "      <td>0.265458</td>\n",
       "    </tr>\n",
       "    <tr>\n",
       "      <th>98</th>\n",
       "      <td>-0.474581</td>\n",
       "      <td>0.689516</td>\n",
       "      <td>0.265458</td>\n",
       "    </tr>\n",
       "    <tr>\n",
       "      <th>99</th>\n",
       "      <td>-0.392109</td>\n",
       "      <td>0.502607</td>\n",
       "      <td>0.265458</td>\n",
       "    </tr>\n",
       "  </tbody>\n",
       "</table>\n",
       "<p>100 rows × 3 columns</p>\n",
       "</div>"
      ],
      "text/plain": [
       "           X         y  pred1[base_model]\n",
       "0  -0.125460  0.051573           0.265458\n",
       "1   0.450714  0.594480           0.265458\n",
       "2   0.231994  0.166052           0.265458\n",
       "3   0.098658 -0.070178           0.265458\n",
       "4  -0.343981  0.343986           0.265458\n",
       "..       ...       ...                ...\n",
       "95 -0.006204 -0.040675           0.265458\n",
       "96  0.022733 -0.002305           0.265458\n",
       "97 -0.072459  0.032809           0.265458\n",
       "98 -0.474581  0.689516           0.265458\n",
       "99 -0.392109  0.502607           0.265458\n",
       "\n",
       "[100 rows x 3 columns]"
      ]
     },
     "execution_count": 27,
     "metadata": {},
     "output_type": "execute_result"
    }
   ],
   "source": [
    "df"
   ]
  },
  {
   "cell_type": "code",
   "execution_count": 28,
   "id": "f635b62c",
   "metadata": {},
   "outputs": [],
   "source": [
    "df['res1']=df['y']-df['pred1[base_model]']"
   ]
  },
  {
   "cell_type": "code",
   "execution_count": 29,
   "id": "2396557c",
   "metadata": {},
   "outputs": [
    {
     "data": {
      "text/html": [
       "<div>\n",
       "<style scoped>\n",
       "    .dataframe tbody tr th:only-of-type {\n",
       "        vertical-align: middle;\n",
       "    }\n",
       "\n",
       "    .dataframe tbody tr th {\n",
       "        vertical-align: top;\n",
       "    }\n",
       "\n",
       "    .dataframe thead th {\n",
       "        text-align: right;\n",
       "    }\n",
       "</style>\n",
       "<table border=\"1\" class=\"dataframe\">\n",
       "  <thead>\n",
       "    <tr style=\"text-align: right;\">\n",
       "      <th></th>\n",
       "      <th>X</th>\n",
       "      <th>y</th>\n",
       "      <th>pred1[base_model]</th>\n",
       "      <th>res1</th>\n",
       "    </tr>\n",
       "  </thead>\n",
       "  <tbody>\n",
       "    <tr>\n",
       "      <th>0</th>\n",
       "      <td>-0.125460</td>\n",
       "      <td>0.051573</td>\n",
       "      <td>0.265458</td>\n",
       "      <td>-0.213885</td>\n",
       "    </tr>\n",
       "    <tr>\n",
       "      <th>1</th>\n",
       "      <td>0.450714</td>\n",
       "      <td>0.594480</td>\n",
       "      <td>0.265458</td>\n",
       "      <td>0.329021</td>\n",
       "    </tr>\n",
       "    <tr>\n",
       "      <th>2</th>\n",
       "      <td>0.231994</td>\n",
       "      <td>0.166052</td>\n",
       "      <td>0.265458</td>\n",
       "      <td>-0.099407</td>\n",
       "    </tr>\n",
       "    <tr>\n",
       "      <th>3</th>\n",
       "      <td>0.098658</td>\n",
       "      <td>-0.070178</td>\n",
       "      <td>0.265458</td>\n",
       "      <td>-0.335636</td>\n",
       "    </tr>\n",
       "    <tr>\n",
       "      <th>4</th>\n",
       "      <td>-0.343981</td>\n",
       "      <td>0.343986</td>\n",
       "      <td>0.265458</td>\n",
       "      <td>0.078528</td>\n",
       "    </tr>\n",
       "    <tr>\n",
       "      <th>...</th>\n",
       "      <td>...</td>\n",
       "      <td>...</td>\n",
       "      <td>...</td>\n",
       "      <td>...</td>\n",
       "    </tr>\n",
       "    <tr>\n",
       "      <th>95</th>\n",
       "      <td>-0.006204</td>\n",
       "      <td>-0.040675</td>\n",
       "      <td>0.265458</td>\n",
       "      <td>-0.306133</td>\n",
       "    </tr>\n",
       "    <tr>\n",
       "      <th>96</th>\n",
       "      <td>0.022733</td>\n",
       "      <td>-0.002305</td>\n",
       "      <td>0.265458</td>\n",
       "      <td>-0.267763</td>\n",
       "    </tr>\n",
       "    <tr>\n",
       "      <th>97</th>\n",
       "      <td>-0.072459</td>\n",
       "      <td>0.032809</td>\n",
       "      <td>0.265458</td>\n",
       "      <td>-0.232650</td>\n",
       "    </tr>\n",
       "    <tr>\n",
       "      <th>98</th>\n",
       "      <td>-0.474581</td>\n",
       "      <td>0.689516</td>\n",
       "      <td>0.265458</td>\n",
       "      <td>0.424057</td>\n",
       "    </tr>\n",
       "    <tr>\n",
       "      <th>99</th>\n",
       "      <td>-0.392109</td>\n",
       "      <td>0.502607</td>\n",
       "      <td>0.265458</td>\n",
       "      <td>0.237148</td>\n",
       "    </tr>\n",
       "  </tbody>\n",
       "</table>\n",
       "<p>100 rows × 4 columns</p>\n",
       "</div>"
      ],
      "text/plain": [
       "           X         y  pred1[base_model]      res1\n",
       "0  -0.125460  0.051573           0.265458 -0.213885\n",
       "1   0.450714  0.594480           0.265458  0.329021\n",
       "2   0.231994  0.166052           0.265458 -0.099407\n",
       "3   0.098658 -0.070178           0.265458 -0.335636\n",
       "4  -0.343981  0.343986           0.265458  0.078528\n",
       "..       ...       ...                ...       ...\n",
       "95 -0.006204 -0.040675           0.265458 -0.306133\n",
       "96  0.022733 -0.002305           0.265458 -0.267763\n",
       "97 -0.072459  0.032809           0.265458 -0.232650\n",
       "98 -0.474581  0.689516           0.265458  0.424057\n",
       "99 -0.392109  0.502607           0.265458  0.237148\n",
       "\n",
       "[100 rows x 4 columns]"
      ]
     },
     "execution_count": 29,
     "metadata": {},
     "output_type": "execute_result"
    }
   ],
   "source": [
    "df"
   ]
  },
  {
   "cell_type": "markdown",
   "id": "19f7184e",
   "metadata": {},
   "source": [
    "**base model**"
   ]
  },
  {
   "cell_type": "code",
   "execution_count": 30,
   "id": "b6bf7c1b",
   "metadata": {
    "scrolled": true
   },
   "outputs": [
    {
     "data": {
      "text/plain": [
       "[<matplotlib.lines.Line2D at 0x2aa56a7d730>]"
      ]
     },
     "execution_count": 30,
     "metadata": {},
     "output_type": "execute_result"
    },
    {
     "data": {
      "image/png": "[encoded data removed]",
      "text/plain": [
       "<Figure size 432x288 with 1 Axes>"
      ]
     },
     "metadata": {
      "needs_background": "light"
     },
     "output_type": "display_data"
    }
   ],
   "source": [
    "plt.scatter(df['X'],df['y'])\n",
    "plt.plot(df['X'],df['pred1[base_model]'],color='green')"
   ]
  },
  {
   "cell_type": "code",
   "execution_count": 31,
   "id": "ece1938f",
   "metadata": {},
   "outputs": [],
   "source": [
    "#in above fig green line representing the base model"
   ]
  },
  {
   "cell_type": "code",
   "execution_count": 32,
   "id": "4bb9f0b6",
   "metadata": {
    "collapsed": true
   },
   "outputs": [
    {
     "data": {
      "text/plain": [
       "array([[-0.12545988],\n",
       "       [ 0.45071431],\n",
       "       [ 0.23199394],\n",
       "       [ 0.09865848],\n",
       "       [-0.34398136],\n",
       "       [-0.34400548],\n",
       "       [-0.44191639],\n",
       "       [ 0.36617615],\n",
       "       [ 0.10111501],\n",
       "       [ 0.20807258],\n",
       "       [-0.47941551],\n",
       "       [ 0.46990985],\n",
       "       [ 0.33244264],\n",
       "       [-0.28766089],\n",
       "       [-0.31817503],\n",
       "       [-0.31659549],\n",
       "       [-0.19575776],\n",
       "       [ 0.02475643],\n",
       "       [-0.06805498],\n",
       "       [-0.20877086],\n",
       "       [ 0.11185289],\n",
       "       [-0.36050614],\n",
       "       [-0.20785535],\n",
       "       [-0.13363816],\n",
       "       [-0.04393002],\n",
       "       [ 0.28517596],\n",
       "       [-0.30032622],\n",
       "       [ 0.01423444],\n",
       "       [ 0.09241457],\n",
       "       [-0.45354959],\n",
       "       [ 0.10754485],\n",
       "       [-0.32947588],\n",
       "       [-0.43494841],\n",
       "       [ 0.44888554],\n",
       "       [ 0.46563203],\n",
       "       [ 0.30839735],\n",
       "       [-0.19538623],\n",
       "       [-0.40232789],\n",
       "       [ 0.18423303],\n",
       "       [-0.05984751],\n",
       "       [-0.37796177],\n",
       "       [-0.00482309],\n",
       "       [-0.46561148],\n",
       "       [ 0.4093204 ],\n",
       "       [-0.24122002],\n",
       "       [ 0.16252228],\n",
       "       [-0.18828892],\n",
       "       [ 0.02006802],\n",
       "       [ 0.04671028],\n",
       "       [-0.31514554],\n",
       "       [ 0.46958463],\n",
       "       [ 0.27513282],\n",
       "       [ 0.43949894],\n",
       "       [ 0.39482735],\n",
       "       [ 0.09789998],\n",
       "       [ 0.42187424],\n",
       "       [-0.4115075 ],\n",
       "       [-0.30401714],\n",
       "       [-0.45477271],\n",
       "       [-0.17466967],\n",
       "       [-0.11132271],\n",
       "       [-0.22865097],\n",
       "       [ 0.32873751],\n",
       "       [-0.14324667],\n",
       "       [-0.21906549],\n",
       "       [ 0.04269608],\n",
       "       [-0.35907578],\n",
       "       [ 0.30219698],\n",
       "       [-0.42544936],\n",
       "       [ 0.48688694],\n",
       "       [ 0.27224477],\n",
       "       [-0.30128432],\n",
       "       [-0.49447788],\n",
       "       [ 0.31546143],\n",
       "       [ 0.20685734],\n",
       "       [ 0.22900717],\n",
       "       [ 0.27127035],\n",
       "       [-0.42595535],\n",
       "       [-0.14153427],\n",
       "       [-0.38413094],\n",
       "       [ 0.36310343],\n",
       "       [ 0.12329813],\n",
       "       [-0.16910198],\n",
       "       [-0.43644165],\n",
       "       [-0.18901768],\n",
       "       [-0.17481668],\n",
       "       [ 0.22960618],\n",
       "       [ 0.13755747],\n",
       "       [ 0.38721274],\n",
       "       [-0.02778507],\n",
       "       [-0.38040575],\n",
       "       [ 0.21324479],\n",
       "       [ 0.26078505],\n",
       "       [ 0.0612772 ],\n",
       "       [ 0.27096718],\n",
       "       [-0.0062044 ],\n",
       "       [ 0.02273283],\n",
       "       [-0.07245898],\n",
       "       [-0.47458087],\n",
       "       [-0.39210857]])"
      ]
     },
     "execution_count": 32,
     "metadata": {},
     "output_type": "execute_result"
    }
   ],
   "source": [
    "#traning of DT1 on top of residual\n",
    "#X,res1\n",
    "\n",
    "df['X'].values.reshape(100,1)"
   ]
  },
  {
   "cell_type": "code",
   "execution_count": 33,
   "id": "afa4a244",
   "metadata": {},
   "outputs": [],
   "source": [
    "y=df['res1']"
   ]
  },
  {
   "cell_type": "code",
   "execution_count": 34,
   "id": "ac8a6180",
   "metadata": {},
   "outputs": [
    {
     "data": {
      "text/html": [
       "<style>#sk-container-id-1 {color: black;}#sk-container-id-1 pre{padding: 0;}#sk-container-id-1 div.sk-toggleable {background-color: white;}#sk-container-id-1 label.sk-toggleable__label {cursor: pointer;display: block;width: 100%;margin-bottom: 0;padding: 0.3em;box-sizing: border-box;text-align: center;}#sk-container-id-1 label.sk-toggleable__label-arrow:before {content: \"▸\";float: left;margin-right: 0.25em;color: #696969;}#sk-container-id-1 label.sk-toggleable__label-arrow:hover:before {color: black;}#sk-container-id-1 div.sk-estimator:hover label.sk-toggleable__label-arrow:before {color: black;}#sk-container-id-1 div.sk-toggleable__content {max-height: 0;max-width: 0;overflow: hidden;text-align: left;background-color: #f0f8ff;}#sk-container-id-1 div.sk-toggleable__content pre {margin: 0.2em;color: black;border-radius: 0.25em;background-color: #f0f8ff;}#sk-container-id-1 input.sk-toggleable__control:checked~div.sk-toggleable__content {max-height: 200px;max-width: 100%;overflow: auto;}#sk-container-id-1 input.sk-toggleable__control:checked~label.sk-toggleable__label-arrow:before {content: \"▾\";}#sk-container-id-1 div.sk-estimator input.sk-toggleable__control:checked~label.sk-toggleable__label {background-color: #d4ebff;}#sk-container-id-1 div.sk-label input.sk-toggleable__control:checked~label.sk-toggleable__label {background-color: #d4ebff;}#sk-container-id-1 input.sk-hidden--visually {border: 0;clip: rect(1px 1px 1px 1px);clip: rect(1px, 1px, 1px, 1px);height: 1px;margin: -1px;overflow: hidden;padding: 0;position: absolute;width: 1px;}#sk-container-id-1 div.sk-estimator {font-family: monospace;background-color: #f0f8ff;border: 1px dotted black;border-radius: 0.25em;box-sizing: border-box;margin-bottom: 0.5em;}#sk-container-id-1 div.sk-estimator:hover {background-color: #d4ebff;}#sk-container-id-1 div.sk-parallel-item::after {content: \"\";width: 100%;border-bottom: 1px solid gray;flex-grow: 1;}#sk-container-id-1 div.sk-label:hover label.sk-toggleable__label {background-color: #d4ebff;}#sk-container-id-1 div.sk-serial::before {content: \"\";position: absolute;border-left: 1px solid gray;box-sizing: border-box;top: 0;bottom: 0;left: 50%;z-index: 0;}#sk-container-id-1 div.sk-serial {display: flex;flex-direction: column;align-items: center;background-color: white;padding-right: 0.2em;padding-left: 0.2em;position: relative;}#sk-container-id-1 div.sk-item {position: relative;z-index: 1;}#sk-container-id-1 div.sk-parallel {display: flex;align-items: stretch;justify-content: center;background-color: white;position: relative;}#sk-container-id-1 div.sk-item::before, #sk-container-id-1 div.sk-parallel-item::before {content: \"\";position: absolute;border-left: 1px solid gray;box-sizing: border-box;top: 0;bottom: 0;left: 50%;z-index: -1;}#sk-container-id-1 div.sk-parallel-item {display: flex;flex-direction: column;z-index: 1;position: relative;background-color: white;}#sk-container-id-1 div.sk-parallel-item:first-child::after {align-self: flex-end;width: 50%;}#sk-container-id-1 div.sk-parallel-item:last-child::after {align-self: flex-start;width: 50%;}#sk-container-id-1 div.sk-parallel-item:only-child::after {width: 0;}#sk-container-id-1 div.sk-dashed-wrapped {border: 1px dashed gray;margin: 0 0.4em 0.5em 0.4em;box-sizing: border-box;padding-bottom: 0.4em;background-color: white;}#sk-container-id-1 div.sk-label label {font-family: monospace;font-weight: bold;display: inline-block;line-height: 1.2em;}#sk-container-id-1 div.sk-label-container {text-align: center;}#sk-container-id-1 div.sk-container {/* jupyter's `normalize.less` sets `[hidden] { display: none; }` but bootstrap.min.css set `[hidden] { display: none !important; }` so we also need the `!important` here to be able to override the default hidden behavior on the sphinx rendered scikit-learn.org. See: https://github.com/scikit-learn/scikit-learn/issues/21755 */display: inline-block !important;position: relative;}#sk-container-id-1 div.sk-text-repr-fallback {display: none;}</style><div id=\"sk-container-id-1\" class=\"sk-top-container\"><div class=\"sk-text-repr-fallback\"><pre>DecisionTreeRegressor(max_leaf_nodes=8)</pre><b>In a Jupyter environment, please rerun this cell to show the HTML representation or trust the notebook. <br />On GitHub, the HTML representation is unable to render, please try loading this page with nbviewer.org.</b></div><div class=\"sk-container\" hidden><div class=\"sk-item\"><div class=\"sk-estimator sk-toggleable\"><input class=\"sk-toggleable__control sk-hidden--visually\" id=\"sk-estimator-id-1\" type=\"checkbox\" checked><label for=\"sk-estimator-id-1\" class=\"sk-toggleable__label sk-toggleable__label-arrow\">DecisionTreeRegressor</label><div class=\"sk-toggleable__content\"><pre>DecisionTreeRegressor(max_leaf_nodes=8)</pre></div></div></div></div></div>"
      ],
      "text/plain": [
       "DecisionTreeRegressor(max_leaf_nodes=8)"
      ]
     },
     "execution_count": 34,
     "metadata": {},
     "output_type": "execute_result"
    }
   ],
   "source": [
    "from sklearn.tree import DecisionTreeRegressor\n",
    "DT1=DecisionTreeRegressor(max_leaf_nodes=8)\n",
    "DT1.fit(X,y)"
   ]
  },
  {
   "cell_type": "code",
   "execution_count": 35,
   "id": "5b05948b",
   "metadata": {},
   "outputs": [],
   "source": [
    "#visualise tree\n",
    "\n",
    "from sklearn.tree import plot_tree"
   ]
  },
  {
   "cell_type": "markdown",
   "id": "350d0531",
   "metadata": {},
   "source": [
    "**DT1**"
   ]
  },
  {
   "cell_type": "code",
   "execution_count": 36,
   "id": "0362858c",
   "metadata": {},
   "outputs": [
    {
     "data": {
      "image/png": "[encoded data removed]",
      "text/plain": [
       "<Figure size 864x432 with 1 Axes>"
      ]
     },
     "metadata": {
      "needs_background": "light"
     },
     "output_type": "display_data"
    }
   ],
   "source": [
    "plt.figure(figsize=(12,6))\n",
    "plot_tree(DT1)\n",
    "plt.show()"
   ]
  },
  {
   "cell_type": "code",
   "execution_count": 37,
   "id": "6693c40c",
   "metadata": {},
   "outputs": [],
   "source": [
    "pred=DT1.predict(X)"
   ]
  },
  {
   "cell_type": "code",
   "execution_count": 95,
   "id": "5c478b3b",
   "metadata": {},
   "outputs": [
    {
     "data": {
      "text/plain": [
       "0.9243998940884022"
      ]
     },
     "execution_count": 95,
     "metadata": {},
     "output_type": "execute_result"
    }
   ],
   "source": [
    "DT1.score(X,y)"
   ]
  },
  {
   "cell_type": "code",
   "execution_count": 96,
   "id": "e2863392",
   "metadata": {},
   "outputs": [],
   "source": [
    "#chech how good DT1 fit the data"
   ]
  },
  {
   "cell_type": "markdown",
   "id": "2f4a8065",
   "metadata": {},
   "source": [
    "**testing on top of unknown data**"
   ]
  },
  {
   "cell_type": "code",
   "execution_count": 98,
   "id": "3af2a261",
   "metadata": {},
   "outputs": [],
   "source": [
    "#unknown test data\n",
    "#linspace() function generates evenly spaced numbers over a specified interval\n",
    "\n",
    "X_test=np.linspace(-0.5,0.5,500)"
   ]
  },
  {
   "cell_type": "code",
   "execution_count": 124,
   "id": "34da6b93",
   "metadata": {},
   "outputs": [],
   "source": [
    "#without alpha(we get overfited model)\n",
    "\n",
    "y_pred=BASE[0]+(DT1.predict(X_test.reshape(500,1)))"
   ]
  },
  {
   "cell_type": "code",
   "execution_count": 125,
   "id": "59db5a79",
   "metadata": {},
   "outputs": [],
   "source": [
    "#with alpha(LR)\n",
    "\n",
    "y_pred1=BASE[0]+(alpha*DT1.predict(X_test.reshape(500,1)))"
   ]
  },
  {
   "cell_type": "code",
   "execution_count": 126,
   "id": "2bc38883",
   "metadata": {},
   "outputs": [],
   "source": [
    "# cheching behaviour of additive model by plotting"
   ]
  },
  {
   "cell_type": "code",
   "execution_count": 127,
   "id": "b39dd5df",
   "metadata": {},
   "outputs": [
    {
     "data": {
      "text/plain": [
       "<matplotlib.collections.PathCollection at 0x2aa5951bd00>"
      ]
     },
     "execution_count": 127,
     "metadata": {},
     "output_type": "execute_result"
    },
    {
     "data": {
      "image/png": "[encoded data removed]",
      "text/plain": [
       "<Figure size 1008x288 with 1 Axes>"
      ]
     },
     "metadata": {
      "needs_background": "light"
     },
     "output_type": "display_data"
    }
   ],
   "source": [
    "#without alpha we get overfitting\n",
    "\n",
    "plt.figure(figsize=(14,4))\n",
    "plt.subplot(121)\n",
    "plt.plot(X_test,y_pred,linewidth=2,color='red')\n",
    "plt.scatter(df['X'],df['y'])"
   ]
  },
  {
   "cell_type": "code",
   "execution_count": 128,
   "id": "fca08c77",
   "metadata": {},
   "outputs": [
    {
     "data": {
      "text/plain": [
       "<matplotlib.collections.PathCollection at 0x2aa5953f9a0>"
      ]
     },
     "execution_count": 128,
     "metadata": {},
     "output_type": "execute_result"
    },
    {
     "data": {
      "image/png": "[encoded data removed]",
      "text/plain": [
       "<Figure size 1008x288 with 1 Axes>"
      ]
     },
     "metadata": {
      "needs_background": "light"
     },
     "output_type": "display_data"
    }
   ],
   "source": [
    "#with alpha there are residuals\n",
    "\n",
    "plt.figure(figsize=(14,4))\n",
    "plt.subplot(121)\n",
    "plt.plot(X_test,y_pred1,linewidth=2,color='red')\n",
    "plt.scatter(df['X'],df['y'])"
   ]
  },
  {
   "cell_type": "markdown",
   "id": "28af0c92",
   "metadata": {},
   "source": [
    "**Residual2**"
   ]
  },
  {
   "cell_type": "code",
   "execution_count": 129,
   "id": "68dcf4a8",
   "metadata": {},
   "outputs": [],
   "source": [
    "#prediction 2\n",
    "\n",
    "df['pred2']=pred"
   ]
  },
  {
   "cell_type": "code",
   "execution_count": 39,
   "id": "960665e8",
   "metadata": {},
   "outputs": [
    {
     "data": {
      "text/html": [
       "<div>\n",
       "<style scoped>\n",
       "    .dataframe tbody tr th:only-of-type {\n",
       "        vertical-align: middle;\n",
       "    }\n",
       "\n",
       "    .dataframe tbody tr th {\n",
       "        vertical-align: top;\n",
       "    }\n",
       "\n",
       "    .dataframe thead th {\n",
       "        text-align: right;\n",
       "    }\n",
       "</style>\n",
       "<table border=\"1\" class=\"dataframe\">\n",
       "  <thead>\n",
       "    <tr style=\"text-align: right;\">\n",
       "      <th></th>\n",
       "      <th>X</th>\n",
       "      <th>y</th>\n",
       "      <th>pred1[base_model]</th>\n",
       "      <th>res1</th>\n",
       "      <th>pred2</th>\n",
       "    </tr>\n",
       "  </thead>\n",
       "  <tbody>\n",
       "    <tr>\n",
       "      <th>0</th>\n",
       "      <td>-0.125460</td>\n",
       "      <td>0.051573</td>\n",
       "      <td>0.265458</td>\n",
       "      <td>-0.213885</td>\n",
       "      <td>-0.247139</td>\n",
       "    </tr>\n",
       "    <tr>\n",
       "      <th>1</th>\n",
       "      <td>0.450714</td>\n",
       "      <td>0.594480</td>\n",
       "      <td>0.265458</td>\n",
       "      <td>0.329021</td>\n",
       "      <td>0.340426</td>\n",
       "    </tr>\n",
       "    <tr>\n",
       "      <th>2</th>\n",
       "      <td>0.231994</td>\n",
       "      <td>0.166052</td>\n",
       "      <td>0.265458</td>\n",
       "      <td>-0.099407</td>\n",
       "      <td>-0.049674</td>\n",
       "    </tr>\n",
       "    <tr>\n",
       "      <th>3</th>\n",
       "      <td>0.098658</td>\n",
       "      <td>-0.070178</td>\n",
       "      <td>0.265458</td>\n",
       "      <td>-0.335636</td>\n",
       "      <td>-0.247139</td>\n",
       "    </tr>\n",
       "    <tr>\n",
       "      <th>4</th>\n",
       "      <td>-0.343981</td>\n",
       "      <td>0.343986</td>\n",
       "      <td>0.265458</td>\n",
       "      <td>0.078528</td>\n",
       "      <td>0.040506</td>\n",
       "    </tr>\n",
       "    <tr>\n",
       "      <th>...</th>\n",
       "      <td>...</td>\n",
       "      <td>...</td>\n",
       "      <td>...</td>\n",
       "      <td>...</td>\n",
       "      <td>...</td>\n",
       "    </tr>\n",
       "    <tr>\n",
       "      <th>95</th>\n",
       "      <td>-0.006204</td>\n",
       "      <td>-0.040675</td>\n",
       "      <td>0.265458</td>\n",
       "      <td>-0.306133</td>\n",
       "      <td>-0.247139</td>\n",
       "    </tr>\n",
       "    <tr>\n",
       "      <th>96</th>\n",
       "      <td>0.022733</td>\n",
       "      <td>-0.002305</td>\n",
       "      <td>0.265458</td>\n",
       "      <td>-0.267763</td>\n",
       "      <td>-0.247139</td>\n",
       "    </tr>\n",
       "    <tr>\n",
       "      <th>97</th>\n",
       "      <td>-0.072459</td>\n",
       "      <td>0.032809</td>\n",
       "      <td>0.265458</td>\n",
       "      <td>-0.232650</td>\n",
       "      <td>-0.247139</td>\n",
       "    </tr>\n",
       "    <tr>\n",
       "      <th>98</th>\n",
       "      <td>-0.474581</td>\n",
       "      <td>0.689516</td>\n",
       "      <td>0.265458</td>\n",
       "      <td>0.424057</td>\n",
       "      <td>0.395454</td>\n",
       "    </tr>\n",
       "    <tr>\n",
       "      <th>99</th>\n",
       "      <td>-0.392109</td>\n",
       "      <td>0.502607</td>\n",
       "      <td>0.265458</td>\n",
       "      <td>0.237148</td>\n",
       "      <td>0.222338</td>\n",
       "    </tr>\n",
       "  </tbody>\n",
       "</table>\n",
       "<p>100 rows × 5 columns</p>\n",
       "</div>"
      ],
      "text/plain": [
       "           X         y  pred1[base_model]      res1     pred2\n",
       "0  -0.125460  0.051573           0.265458 -0.213885 -0.247139\n",
       "1   0.450714  0.594480           0.265458  0.329021  0.340426\n",
       "2   0.231994  0.166052           0.265458 -0.099407 -0.049674\n",
       "3   0.098658 -0.070178           0.265458 -0.335636 -0.247139\n",
       "4  -0.343981  0.343986           0.265458  0.078528  0.040506\n",
       "..       ...       ...                ...       ...       ...\n",
       "95 -0.006204 -0.040675           0.265458 -0.306133 -0.247139\n",
       "96  0.022733 -0.002305           0.265458 -0.267763 -0.247139\n",
       "97 -0.072459  0.032809           0.265458 -0.232650 -0.247139\n",
       "98 -0.474581  0.689516           0.265458  0.424057  0.395454\n",
       "99 -0.392109  0.502607           0.265458  0.237148  0.222338\n",
       "\n",
       "[100 rows x 5 columns]"
      ]
     },
     "execution_count": 39,
     "metadata": {},
     "output_type": "execute_result"
    }
   ],
   "source": [
    "df"
   ]
  },
  {
   "cell_type": "code",
   "execution_count": 40,
   "id": "e8f8de59",
   "metadata": {},
   "outputs": [],
   "source": [
    "#res2=actual_value-(BASE+learning_rate=0.1*pred2)\n",
    "\n",
    "BASE=df['pred1[base_model]']\n",
    "learning_rate=0.1"
   ]
  },
  {
   "cell_type": "code",
   "execution_count": 72,
   "id": "c05ef179",
   "metadata": {},
   "outputs": [],
   "source": [
    "df['res2']=df['y']-(BASE+(learning_rate*pred))"
   ]
  },
  {
   "cell_type": "code",
   "execution_count": 73,
   "id": "b4a128f0",
   "metadata": {},
   "outputs": [
    {
     "data": {
      "text/html": [
       "<div>\n",
       "<style scoped>\n",
       "    .dataframe tbody tr th:only-of-type {\n",
       "        vertical-align: middle;\n",
       "    }\n",
       "\n",
       "    .dataframe tbody tr th {\n",
       "        vertical-align: top;\n",
       "    }\n",
       "\n",
       "    .dataframe thead th {\n",
       "        text-align: right;\n",
       "    }\n",
       "</style>\n",
       "<table border=\"1\" class=\"dataframe\">\n",
       "  <thead>\n",
       "    <tr style=\"text-align: right;\">\n",
       "      <th></th>\n",
       "      <th>X</th>\n",
       "      <th>y</th>\n",
       "      <th>pred1[base_model]</th>\n",
       "      <th>res1</th>\n",
       "      <th>pred2</th>\n",
       "      <th>res2</th>\n",
       "    </tr>\n",
       "  </thead>\n",
       "  <tbody>\n",
       "    <tr>\n",
       "      <th>0</th>\n",
       "      <td>-0.125460</td>\n",
       "      <td>0.051573</td>\n",
       "      <td>0.265458</td>\n",
       "      <td>-0.213885</td>\n",
       "      <td>-0.247139</td>\n",
       "      <td>-0.190946</td>\n",
       "    </tr>\n",
       "    <tr>\n",
       "      <th>1</th>\n",
       "      <td>0.450714</td>\n",
       "      <td>0.594480</td>\n",
       "      <td>0.265458</td>\n",
       "      <td>0.329021</td>\n",
       "      <td>0.340426</td>\n",
       "      <td>0.296466</td>\n",
       "    </tr>\n",
       "    <tr>\n",
       "      <th>2</th>\n",
       "      <td>0.231994</td>\n",
       "      <td>0.166052</td>\n",
       "      <td>0.265458</td>\n",
       "      <td>-0.099407</td>\n",
       "      <td>-0.049674</td>\n",
       "      <td>-0.095246</td>\n",
       "    </tr>\n",
       "    <tr>\n",
       "      <th>3</th>\n",
       "      <td>0.098658</td>\n",
       "      <td>-0.070178</td>\n",
       "      <td>0.265458</td>\n",
       "      <td>-0.335636</td>\n",
       "      <td>-0.247139</td>\n",
       "      <td>-0.312697</td>\n",
       "    </tr>\n",
       "    <tr>\n",
       "      <th>4</th>\n",
       "      <td>-0.343981</td>\n",
       "      <td>0.343986</td>\n",
       "      <td>0.265458</td>\n",
       "      <td>0.078528</td>\n",
       "      <td>0.040506</td>\n",
       "      <td>0.074882</td>\n",
       "    </tr>\n",
       "    <tr>\n",
       "      <th>...</th>\n",
       "      <td>...</td>\n",
       "      <td>...</td>\n",
       "      <td>...</td>\n",
       "      <td>...</td>\n",
       "      <td>...</td>\n",
       "      <td>...</td>\n",
       "    </tr>\n",
       "    <tr>\n",
       "      <th>95</th>\n",
       "      <td>-0.006204</td>\n",
       "      <td>-0.040675</td>\n",
       "      <td>0.265458</td>\n",
       "      <td>-0.306133</td>\n",
       "      <td>-0.247139</td>\n",
       "      <td>-0.283194</td>\n",
       "    </tr>\n",
       "    <tr>\n",
       "      <th>96</th>\n",
       "      <td>0.022733</td>\n",
       "      <td>-0.002305</td>\n",
       "      <td>0.265458</td>\n",
       "      <td>-0.267763</td>\n",
       "      <td>-0.247139</td>\n",
       "      <td>-0.244824</td>\n",
       "    </tr>\n",
       "    <tr>\n",
       "      <th>97</th>\n",
       "      <td>-0.072459</td>\n",
       "      <td>0.032809</td>\n",
       "      <td>0.265458</td>\n",
       "      <td>-0.232650</td>\n",
       "      <td>-0.247139</td>\n",
       "      <td>-0.209711</td>\n",
       "    </tr>\n",
       "    <tr>\n",
       "      <th>98</th>\n",
       "      <td>-0.474581</td>\n",
       "      <td>0.689516</td>\n",
       "      <td>0.265458</td>\n",
       "      <td>0.424057</td>\n",
       "      <td>0.395454</td>\n",
       "      <td>0.387460</td>\n",
       "    </tr>\n",
       "    <tr>\n",
       "      <th>99</th>\n",
       "      <td>-0.392109</td>\n",
       "      <td>0.502607</td>\n",
       "      <td>0.265458</td>\n",
       "      <td>0.237148</td>\n",
       "      <td>0.222338</td>\n",
       "      <td>0.216385</td>\n",
       "    </tr>\n",
       "  </tbody>\n",
       "</table>\n",
       "<p>100 rows × 6 columns</p>\n",
       "</div>"
      ],
      "text/plain": [
       "           X         y  pred1[base_model]      res1     pred2      res2\n",
       "0  -0.125460  0.051573           0.265458 -0.213885 -0.247139 -0.190946\n",
       "1   0.450714  0.594480           0.265458  0.329021  0.340426  0.296466\n",
       "2   0.231994  0.166052           0.265458 -0.099407 -0.049674 -0.095246\n",
       "3   0.098658 -0.070178           0.265458 -0.335636 -0.247139 -0.312697\n",
       "4  -0.343981  0.343986           0.265458  0.078528  0.040506  0.074882\n",
       "..       ...       ...                ...       ...       ...       ...\n",
       "95 -0.006204 -0.040675           0.265458 -0.306133 -0.247139 -0.283194\n",
       "96  0.022733 -0.002305           0.265458 -0.267763 -0.247139 -0.244824\n",
       "97 -0.072459  0.032809           0.265458 -0.232650 -0.247139 -0.209711\n",
       "98 -0.474581  0.689516           0.265458  0.424057  0.395454  0.387460\n",
       "99 -0.392109  0.502607           0.265458  0.237148  0.222338  0.216385\n",
       "\n",
       "[100 rows x 6 columns]"
      ]
     },
     "execution_count": 73,
     "metadata": {},
     "output_type": "execute_result"
    }
   ],
   "source": [
    "df"
   ]
  },
  {
   "cell_type": "code",
   "execution_count": 74,
   "id": "552d027a",
   "metadata": {},
   "outputs": [],
   "source": [
    "# train one more DT to reduse the residual"
   ]
  },
  {
   "cell_type": "code",
   "execution_count": 47,
   "id": "9f4073b7",
   "metadata": {},
   "outputs": [],
   "source": [
    "X=df['X'].values.reshape(100,1)\n",
    "y=df['res2'].values"
   ]
  },
  {
   "cell_type": "code",
   "execution_count": 75,
   "id": "7ff78b86",
   "metadata": {
    "collapsed": true
   },
   "outputs": [
    {
     "data": {
      "text/plain": [
       "array([[-0.12545988],\n",
       "       [ 0.45071431],\n",
       "       [ 0.23199394],\n",
       "       [ 0.09865848],\n",
       "       [-0.34398136],\n",
       "       [-0.34400548],\n",
       "       [-0.44191639],\n",
       "       [ 0.36617615],\n",
       "       [ 0.10111501],\n",
       "       [ 0.20807258],\n",
       "       [-0.47941551],\n",
       "       [ 0.46990985],\n",
       "       [ 0.33244264],\n",
       "       [-0.28766089],\n",
       "       [-0.31817503],\n",
       "       [-0.31659549],\n",
       "       [-0.19575776],\n",
       "       [ 0.02475643],\n",
       "       [-0.06805498],\n",
       "       [-0.20877086],\n",
       "       [ 0.11185289],\n",
       "       [-0.36050614],\n",
       "       [-0.20785535],\n",
       "       [-0.13363816],\n",
       "       [-0.04393002],\n",
       "       [ 0.28517596],\n",
       "       [-0.30032622],\n",
       "       [ 0.01423444],\n",
       "       [ 0.09241457],\n",
       "       [-0.45354959],\n",
       "       [ 0.10754485],\n",
       "       [-0.32947588],\n",
       "       [-0.43494841],\n",
       "       [ 0.44888554],\n",
       "       [ 0.46563203],\n",
       "       [ 0.30839735],\n",
       "       [-0.19538623],\n",
       "       [-0.40232789],\n",
       "       [ 0.18423303],\n",
       "       [-0.05984751],\n",
       "       [-0.37796177],\n",
       "       [-0.00482309],\n",
       "       [-0.46561148],\n",
       "       [ 0.4093204 ],\n",
       "       [-0.24122002],\n",
       "       [ 0.16252228],\n",
       "       [-0.18828892],\n",
       "       [ 0.02006802],\n",
       "       [ 0.04671028],\n",
       "       [-0.31514554],\n",
       "       [ 0.46958463],\n",
       "       [ 0.27513282],\n",
       "       [ 0.43949894],\n",
       "       [ 0.39482735],\n",
       "       [ 0.09789998],\n",
       "       [ 0.42187424],\n",
       "       [-0.4115075 ],\n",
       "       [-0.30401714],\n",
       "       [-0.45477271],\n",
       "       [-0.17466967],\n",
       "       [-0.11132271],\n",
       "       [-0.22865097],\n",
       "       [ 0.32873751],\n",
       "       [-0.14324667],\n",
       "       [-0.21906549],\n",
       "       [ 0.04269608],\n",
       "       [-0.35907578],\n",
       "       [ 0.30219698],\n",
       "       [-0.42544936],\n",
       "       [ 0.48688694],\n",
       "       [ 0.27224477],\n",
       "       [-0.30128432],\n",
       "       [-0.49447788],\n",
       "       [ 0.31546143],\n",
       "       [ 0.20685734],\n",
       "       [ 0.22900717],\n",
       "       [ 0.27127035],\n",
       "       [-0.42595535],\n",
       "       [-0.14153427],\n",
       "       [-0.38413094],\n",
       "       [ 0.36310343],\n",
       "       [ 0.12329813],\n",
       "       [-0.16910198],\n",
       "       [-0.43644165],\n",
       "       [-0.18901768],\n",
       "       [-0.17481668],\n",
       "       [ 0.22960618],\n",
       "       [ 0.13755747],\n",
       "       [ 0.38721274],\n",
       "       [-0.02778507],\n",
       "       [-0.38040575],\n",
       "       [ 0.21324479],\n",
       "       [ 0.26078505],\n",
       "       [ 0.0612772 ],\n",
       "       [ 0.27096718],\n",
       "       [-0.0062044 ],\n",
       "       [ 0.02273283],\n",
       "       [-0.07245898],\n",
       "       [-0.47458087],\n",
       "       [-0.39210857]])"
      ]
     },
     "execution_count": 75,
     "metadata": {},
     "output_type": "execute_result"
    }
   ],
   "source": [
    "X"
   ]
  },
  {
   "cell_type": "code",
   "execution_count": 48,
   "id": "250848b6",
   "metadata": {},
   "outputs": [
    {
     "data": {
      "text/html": [
       "<style>#sk-container-id-3 {color: black;}#sk-container-id-3 pre{padding: 0;}#sk-container-id-3 div.sk-toggleable {background-color: white;}#sk-container-id-3 label.sk-toggleable__label {cursor: pointer;display: block;width: 100%;margin-bottom: 0;padding: 0.3em;box-sizing: border-box;text-align: center;}#sk-container-id-3 label.sk-toggleable__label-arrow:before {content: \"▸\";float: left;margin-right: 0.25em;color: #696969;}#sk-container-id-3 label.sk-toggleable__label-arrow:hover:before {color: black;}#sk-container-id-3 div.sk-estimator:hover label.sk-toggleable__label-arrow:before {color: black;}#sk-container-id-3 div.sk-toggleable__content {max-height: 0;max-width: 0;overflow: hidden;text-align: left;background-color: #f0f8ff;}#sk-container-id-3 div.sk-toggleable__content pre {margin: 0.2em;color: black;border-radius: 0.25em;background-color: #f0f8ff;}#sk-container-id-3 input.sk-toggleable__control:checked~div.sk-toggleable__content {max-height: 200px;max-width: 100%;overflow: auto;}#sk-container-id-3 input.sk-toggleable__control:checked~label.sk-toggleable__label-arrow:before {content: \"▾\";}#sk-container-id-3 div.sk-estimator input.sk-toggleable__control:checked~label.sk-toggleable__label {background-color: #d4ebff;}#sk-container-id-3 div.sk-label input.sk-toggleable__control:checked~label.sk-toggleable__label {background-color: #d4ebff;}#sk-container-id-3 input.sk-hidden--visually {border: 0;clip: rect(1px 1px 1px 1px);clip: rect(1px, 1px, 1px, 1px);height: 1px;margin: -1px;overflow: hidden;padding: 0;position: absolute;width: 1px;}#sk-container-id-3 div.sk-estimator {font-family: monospace;background-color: #f0f8ff;border: 1px dotted black;border-radius: 0.25em;box-sizing: border-box;margin-bottom: 0.5em;}#sk-container-id-3 div.sk-estimator:hover {background-color: #d4ebff;}#sk-container-id-3 div.sk-parallel-item::after {content: \"\";width: 100%;border-bottom: 1px solid gray;flex-grow: 1;}#sk-container-id-3 div.sk-label:hover label.sk-toggleable__label {background-color: #d4ebff;}#sk-container-id-3 div.sk-serial::before {content: \"\";position: absolute;border-left: 1px solid gray;box-sizing: border-box;top: 0;bottom: 0;left: 50%;z-index: 0;}#sk-container-id-3 div.sk-serial {display: flex;flex-direction: column;align-items: center;background-color: white;padding-right: 0.2em;padding-left: 0.2em;position: relative;}#sk-container-id-3 div.sk-item {position: relative;z-index: 1;}#sk-container-id-3 div.sk-parallel {display: flex;align-items: stretch;justify-content: center;background-color: white;position: relative;}#sk-container-id-3 div.sk-item::before, #sk-container-id-3 div.sk-parallel-item::before {content: \"\";position: absolute;border-left: 1px solid gray;box-sizing: border-box;top: 0;bottom: 0;left: 50%;z-index: -1;}#sk-container-id-3 div.sk-parallel-item {display: flex;flex-direction: column;z-index: 1;position: relative;background-color: white;}#sk-container-id-3 div.sk-parallel-item:first-child::after {align-self: flex-end;width: 50%;}#sk-container-id-3 div.sk-parallel-item:last-child::after {align-self: flex-start;width: 50%;}#sk-container-id-3 div.sk-parallel-item:only-child::after {width: 0;}#sk-container-id-3 div.sk-dashed-wrapped {border: 1px dashed gray;margin: 0 0.4em 0.5em 0.4em;box-sizing: border-box;padding-bottom: 0.4em;background-color: white;}#sk-container-id-3 div.sk-label label {font-family: monospace;font-weight: bold;display: inline-block;line-height: 1.2em;}#sk-container-id-3 div.sk-label-container {text-align: center;}#sk-container-id-3 div.sk-container {/* jupyter's `normalize.less` sets `[hidden] { display: none; }` but bootstrap.min.css set `[hidden] { display: none !important; }` so we also need the `!important` here to be able to override the default hidden behavior on the sphinx rendered scikit-learn.org. See: https://github.com/scikit-learn/scikit-learn/issues/21755 */display: inline-block !important;position: relative;}#sk-container-id-3 div.sk-text-repr-fallback {display: none;}</style><div id=\"sk-container-id-3\" class=\"sk-top-container\"><div class=\"sk-text-repr-fallback\"><pre>DecisionTreeRegressor(max_leaf_nodes=8)</pre><b>In a Jupyter environment, please rerun this cell to show the HTML representation or trust the notebook. <br />On GitHub, the HTML representation is unable to render, please try loading this page with nbviewer.org.</b></div><div class=\"sk-container\" hidden><div class=\"sk-item\"><div class=\"sk-estimator sk-toggleable\"><input class=\"sk-toggleable__control sk-hidden--visually\" id=\"sk-estimator-id-3\" type=\"checkbox\" checked><label for=\"sk-estimator-id-3\" class=\"sk-toggleable__label sk-toggleable__label-arrow\">DecisionTreeRegressor</label><div class=\"sk-toggleable__content\"><pre>DecisionTreeRegressor(max_leaf_nodes=8)</pre></div></div></div></div></div>"
      ],
      "text/plain": [
       "DecisionTreeRegressor(max_leaf_nodes=8)"
      ]
     },
     "execution_count": 48,
     "metadata": {},
     "output_type": "execute_result"
    }
   ],
   "source": [
    "from sklearn.tree import DecisionTreeRegressor\n",
    "DT2=DecisionTreeRegressor(max_leaf_nodes=8)\n",
    "DT2.fit(X,y)"
   ]
  },
  {
   "cell_type": "code",
   "execution_count": 50,
   "id": "836214d9",
   "metadata": {
    "collapsed": true
   },
   "outputs": [
    {
     "data": {
      "image/png": "[encoded data removed]",
      "text/plain": [
       "<Figure size 864x432 with 1 Axes>"
      ]
     },
     "metadata": {
      "needs_background": "light"
     },
     "output_type": "display_data"
    }
   ],
   "source": [
    "plt.figure(figsize=(12,6))\n",
    "plot_tree(DT2)\n",
    "plt.show()"
   ]
  },
  {
   "cell_type": "code",
   "execution_count": 68,
   "id": "f268aa03",
   "metadata": {},
   "outputs": [],
   "source": [
    "#res3=BASE+(alpha*(DT1))+(alpha*(DT2))"
   ]
  },
  {
   "cell_type": "code",
   "execution_count": 76,
   "id": "8b4694bf",
   "metadata": {},
   "outputs": [],
   "source": [
    "querry=[[0.45071431]]"
   ]
  },
  {
   "cell_type": "code",
   "execution_count": 83,
   "id": "4c99f272",
   "metadata": {},
   "outputs": [],
   "source": [
    "prediction1=DT1.predict(querry)"
   ]
  },
  {
   "cell_type": "code",
   "execution_count": 87,
   "id": "4ede474b",
   "metadata": {},
   "outputs": [
    {
     "data": {
      "text/plain": [
       "array([0.34042552])"
      ]
     },
     "execution_count": 87,
     "metadata": {},
     "output_type": "execute_result"
    }
   ],
   "source": [
    "prediction1"
   ]
  },
  {
   "cell_type": "code",
   "execution_count": 84,
   "id": "09706d86",
   "metadata": {},
   "outputs": [],
   "source": [
    "prediction2=DT2.predict(querry)"
   ]
  },
  {
   "cell_type": "code",
   "execution_count": 88,
   "id": "d0e325cb",
   "metadata": {},
   "outputs": [
    {
     "data": {
      "text/plain": [
       "array([0.32555151])"
      ]
     },
     "execution_count": 88,
     "metadata": {},
     "output_type": "execute_result"
    }
   ],
   "source": [
    "prediction2"
   ]
  },
  {
   "cell_type": "code",
   "execution_count": 85,
   "id": "c8c88fda",
   "metadata": {},
   "outputs": [
    {
     "data": {
      "text/plain": [
       "0.2654583966967982"
      ]
     },
     "execution_count": 85,
     "metadata": {},
     "output_type": "execute_result"
    }
   ],
   "source": [
    "alpha=0.1\n",
    "BASE[0]"
   ]
  },
  {
   "cell_type": "code",
   "execution_count": 89,
   "id": "a9f3facb",
   "metadata": {},
   "outputs": [],
   "source": [
    "final_pred=BASE[0]+(alpha*prediction1)+(alpha*prediction2)"
   ]
  },
  {
   "cell_type": "code",
   "execution_count": 90,
   "id": "76d08214",
   "metadata": {},
   "outputs": [
    {
     "data": {
      "text/plain": [
       "array([0.3320561])"
      ]
     },
     "execution_count": 90,
     "metadata": {},
     "output_type": "execute_result"
    }
   ],
   "source": [
    "final_pred"
   ]
  },
  {
   "cell_type": "code",
   "execution_count": 92,
   "id": "8b06a341",
   "metadata": {},
   "outputs": [],
   "source": [
    "# and here we do not get less residual hence we have to add on more models"
   ]
  },
  {
   "cell_type": "markdown",
   "id": "6b779ff9",
   "metadata": {},
   "source": [
    "**Testing using sklearn**"
   ]
  },
  {
   "cell_type": "code",
   "execution_count": 137,
   "id": "c0621d46",
   "metadata": {},
   "outputs": [],
   "source": [
    "from sklearn.metrics import mean_squared_error\n",
    "from sklearn.ensemble import GradientBoostingRegressor\n",
    "clf=GradientBoostingRegressor(n_estimators=100, learning_rate=0.1, max_depth=1, random_state=0,loss='squared_error')"
   ]
  },
  {
   "cell_type": "code",
   "execution_count": 138,
   "id": "2ecef7b9",
   "metadata": {},
   "outputs": [
    {
     "data": {
      "text/html": [
       "<style>#sk-container-id-5 {color: black;}#sk-container-id-5 pre{padding: 0;}#sk-container-id-5 div.sk-toggleable {background-color: white;}#sk-container-id-5 label.sk-toggleable__label {cursor: pointer;display: block;width: 100%;margin-bottom: 0;padding: 0.3em;box-sizing: border-box;text-align: center;}#sk-container-id-5 label.sk-toggleable__label-arrow:before {content: \"▸\";float: left;margin-right: 0.25em;color: #696969;}#sk-container-id-5 label.sk-toggleable__label-arrow:hover:before {color: black;}#sk-container-id-5 div.sk-estimator:hover label.sk-toggleable__label-arrow:before {color: black;}#sk-container-id-5 div.sk-toggleable__content {max-height: 0;max-width: 0;overflow: hidden;text-align: left;background-color: #f0f8ff;}#sk-container-id-5 div.sk-toggleable__content pre {margin: 0.2em;color: black;border-radius: 0.25em;background-color: #f0f8ff;}#sk-container-id-5 input.sk-toggleable__control:checked~div.sk-toggleable__content {max-height: 200px;max-width: 100%;overflow: auto;}#sk-container-id-5 input.sk-toggleable__control:checked~label.sk-toggleable__label-arrow:before {content: \"▾\";}#sk-container-id-5 div.sk-estimator input.sk-toggleable__control:checked~label.sk-toggleable__label {background-color: #d4ebff;}#sk-container-id-5 div.sk-label input.sk-toggleable__control:checked~label.sk-toggleable__label {background-color: #d4ebff;}#sk-container-id-5 input.sk-hidden--visually {border: 0;clip: rect(1px 1px 1px 1px);clip: rect(1px, 1px, 1px, 1px);height: 1px;margin: -1px;overflow: hidden;padding: 0;position: absolute;width: 1px;}#sk-container-id-5 div.sk-estimator {font-family: monospace;background-color: #f0f8ff;border: 1px dotted black;border-radius: 0.25em;box-sizing: border-box;margin-bottom: 0.5em;}#sk-container-id-5 div.sk-estimator:hover {background-color: #d4ebff;}#sk-container-id-5 div.sk-parallel-item::after {content: \"\";width: 100%;border-bottom: 1px solid gray;flex-grow: 1;}#sk-container-id-5 div.sk-label:hover label.sk-toggleable__label {background-color: #d4ebff;}#sk-container-id-5 div.sk-serial::before {content: \"\";position: absolute;border-left: 1px solid gray;box-sizing: border-box;top: 0;bottom: 0;left: 50%;z-index: 0;}#sk-container-id-5 div.sk-serial {display: flex;flex-direction: column;align-items: center;background-color: white;padding-right: 0.2em;padding-left: 0.2em;position: relative;}#sk-container-id-5 div.sk-item {position: relative;z-index: 1;}#sk-container-id-5 div.sk-parallel {display: flex;align-items: stretch;justify-content: center;background-color: white;position: relative;}#sk-container-id-5 div.sk-item::before, #sk-container-id-5 div.sk-parallel-item::before {content: \"\";position: absolute;border-left: 1px solid gray;box-sizing: border-box;top: 0;bottom: 0;left: 50%;z-index: -1;}#sk-container-id-5 div.sk-parallel-item {display: flex;flex-direction: column;z-index: 1;position: relative;background-color: white;}#sk-container-id-5 div.sk-parallel-item:first-child::after {align-self: flex-end;width: 50%;}#sk-container-id-5 div.sk-parallel-item:last-child::after {align-self: flex-start;width: 50%;}#sk-container-id-5 div.sk-parallel-item:only-child::after {width: 0;}#sk-container-id-5 div.sk-dashed-wrapped {border: 1px dashed gray;margin: 0 0.4em 0.5em 0.4em;box-sizing: border-box;padding-bottom: 0.4em;background-color: white;}#sk-container-id-5 div.sk-label label {font-family: monospace;font-weight: bold;display: inline-block;line-height: 1.2em;}#sk-container-id-5 div.sk-label-container {text-align: center;}#sk-container-id-5 div.sk-container {/* jupyter's `normalize.less` sets `[hidden] { display: none; }` but bootstrap.min.css set `[hidden] { display: none !important; }` so we also need the `!important` here to be able to override the default hidden behavior on the sphinx rendered scikit-learn.org. See: https://github.com/scikit-learn/scikit-learn/issues/21755 */display: inline-block !important;position: relative;}#sk-container-id-5 div.sk-text-repr-fallback {display: none;}</style><div id=\"sk-container-id-5\" class=\"sk-top-container\"><div class=\"sk-text-repr-fallback\"><pre>GradientBoostingRegressor(max_depth=1, random_state=0)</pre><b>In a Jupyter environment, please rerun this cell to show the HTML representation or trust the notebook. <br />On GitHub, the HTML representation is unable to render, please try loading this page with nbviewer.org.</b></div><div class=\"sk-container\" hidden><div class=\"sk-item\"><div class=\"sk-estimator sk-toggleable\"><input class=\"sk-toggleable__control sk-hidden--visually\" id=\"sk-estimator-id-5\" type=\"checkbox\" checked><label for=\"sk-estimator-id-5\" class=\"sk-toggleable__label sk-toggleable__label-arrow\">GradientBoostingRegressor</label><div class=\"sk-toggleable__content\"><pre>GradientBoostingRegressor(max_depth=1, random_state=0)</pre></div></div></div></div></div>"
      ],
      "text/plain": [
       "GradientBoostingRegressor(max_depth=1, random_state=0)"
      ]
     },
     "execution_count": 138,
     "metadata": {},
     "output_type": "execute_result"
    }
   ],
   "source": [
    "clf.fit(X,y)"
   ]
  },
  {
   "cell_type": "code",
   "execution_count": 139,
   "id": "35addd56",
   "metadata": {},
   "outputs": [],
   "source": [
    "prediction=clf.predict(X)"
   ]
  },
  {
   "cell_type": "code",
   "execution_count": 141,
   "id": "3f18a0a8",
   "metadata": {},
   "outputs": [
    {
     "data": {
      "text/plain": [
       "0.0019971243452773842"
      ]
     },
     "execution_count": 141,
     "metadata": {},
     "output_type": "execute_result"
    }
   ],
   "source": [
    "mean_squared_error(y,prediction)"
   ]
  },
  {
   "cell_type": "code",
   "execution_count": null,
   "id": "a7c2e5ce",
   "metadata": {},
   "outputs": [],
   "source": []
  }
 ],
 "metadata": {
  "kernelspec": {
   "display_name": "Python 3 (ipykernel)",
   "language": "python",
   "name": "python3"
  },
  "language_info": {
   "codemirror_mode": {
    "name": "ipython",
    "version": 3
   },
   "file_extension": ".py",
   "mimetype": "text/x-python",
   "name": "python",
   "nbconvert_exporter": "python",
   "pygments_lexer": "ipython3",
   "version": "3.9.7"
  }
 },
 "nbformat": 4,
 "nbformat_minor": 5
}
